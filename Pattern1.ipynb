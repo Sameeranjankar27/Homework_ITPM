{
 "cells": [
  {
   "cell_type": "code",
   "execution_count": 7,
   "id": "578ec12f",
   "metadata": {},
   "outputs": [
    {
     "name": "stdout",
     "output_type": "stream",
     "text": [
      "***\n",
      "***\n",
      "***\n"
     ]
    }
   ],
   "source": [
    "#normal sqaure \n",
    "i=1\n",
    "while i<4:\n",
    "    j=1\n",
    "    while j<4:\n",
    "        print(\"*\",end='')\n",
    "        j=j+1\n",
    "    print()\n",
    "    i=i+1"
   ]
  },
  {
   "cell_type": "code",
   "execution_count": 9,
   "id": "7668ca2d",
   "metadata": {},
   "outputs": [
    {
     "name": "stdout",
     "output_type": "stream",
     "text": [
      "123\n",
      "123\n",
      "123\n"
     ]
    }
   ],
   "source": [
    "# square in integer\n",
    "i=1\n",
    "while i<4:\n",
    "    j=1\n",
    "    while j<4:\n",
    "        print(j,end='')\n",
    "        j=j+1\n",
    "    print()\n",
    "    i=i+1"
   ]
  },
  {
   "cell_type": "code",
   "execution_count": 10,
   "id": "105965c8",
   "metadata": {},
   "outputs": [
    {
     "name": "stdout",
     "output_type": "stream",
     "text": [
      "111\n",
      "222\n",
      "333\n"
     ]
    }
   ],
   "source": [
    "# square in integer\n",
    "i=1\n",
    "while i<4:\n",
    "    j=1\n",
    "    while j<4:\n",
    "        print(i,end='')\n",
    "        j=j+1\n",
    "    print()\n",
    "    i=i+1"
   ]
  },
  {
   "cell_type": "code",
   "execution_count": 13,
   "id": "0ef9e0e6",
   "metadata": {},
   "outputs": [
    {
     "name": "stdout",
     "output_type": "stream",
     "text": [
      "aaa\n",
      "bbb\n",
      "ccc\n"
     ]
    }
   ],
   "source": [
    "# square in alphabet\n",
    "i=1\n",
    "while i<4:\n",
    "    j=1\n",
    "    while j<4:\n",
    "        print(chr(96+i),end='')\n",
    "        j=j+1\n",
    "    print()\n",
    "    i=i+1"
   ]
  },
  {
   "cell_type": "code",
   "execution_count": 14,
   "id": "d5e6fdf7",
   "metadata": {},
   "outputs": [
    {
     "name": "stdout",
     "output_type": "stream",
     "text": [
      "abc\n",
      "abc\n",
      "abc\n"
     ]
    }
   ],
   "source": [
    "# square in alphabet\n",
    "i=1\n",
    "while i<4:\n",
    "    j=1\n",
    "    while j<4:\n",
    "        print(chr(96+j),end='')\n",
    "        j=j+1\n",
    "    print()\n",
    "    i=i+1"
   ]
  },
  {
   "cell_type": "code",
   "execution_count": null,
   "id": "b313e86f",
   "metadata": {},
   "outputs": [],
   "source": [
    "########################################## Traingle ###################################################"
   ]
  },
  {
   "cell_type": "code",
   "execution_count": 17,
   "id": "ddfe2fc3",
   "metadata": {},
   "outputs": [
    {
     "name": "stdout",
     "output_type": "stream",
     "text": [
      "*\n",
      "*\n",
      "*\n",
      "*\n",
      "*\n"
     ]
    }
   ],
   "source": [
    "# traingle in *\n",
    "i=1\n",
    "while i<6:\n",
    "    j=1\n",
    "    while j<6:\n",
    "        if i==j:\n",
    "            print(\"*\",end='')\n",
    "        j=j+1\n",
    "            \n",
    "        \n",
    "    print()\n",
    "    i=i+1"
   ]
  },
  {
   "cell_type": "code",
   "execution_count": null,
   "id": "bd165ae5",
   "metadata": {},
   "outputs": [],
   "source": []
  },
  {
   "cell_type": "code",
   "execution_count": null,
   "id": "aabffa36",
   "metadata": {},
   "outputs": [],
   "source": []
  },
  {
   "cell_type": "code",
   "execution_count": null,
   "id": "f5d9c2a3",
   "metadata": {},
   "outputs": [],
   "source": []
  },
  {
   "cell_type": "code",
   "execution_count": null,
   "id": "90122fc8",
   "metadata": {},
   "outputs": [],
   "source": []
  }
 ],
 "metadata": {
  "kernelspec": {
   "display_name": "Python 3 (ipykernel)",
   "language": "python",
   "name": "python3"
  },
  "language_info": {
   "codemirror_mode": {
    "name": "ipython",
    "version": 3
   },
   "file_extension": ".py",
   "mimetype": "text/x-python",
   "name": "python",
   "nbconvert_exporter": "python",
   "pygments_lexer": "ipython3",
   "version": "3.9.12"
  }
 },
 "nbformat": 4,
 "nbformat_minor": 5
}
